{
 "cells": [
  {
   "cell_type": "markdown",
   "metadata": {},
   "source": [
    "## Indian Food Options in Major US Tourist Cities"
   ]
  },
  {
   "cell_type": "markdown",
   "metadata": {},
   "source": [
    "### Introduction/Business Problem"
   ]
  },
  {
   "cell_type": "markdown",
   "metadata": {},
   "source": [
    "Mr. Kumar from India has to attend a work conference in Boston, United States next month. Family vacation has been overdue for long so he decides on taking his wife and kids along with him. Along with Boston, he has picked Orlando, Florida as one of the destination to spend time with family.\n",
    "His kids are crazy for Disney, so Orlando was an obvious choice. \n",
    "Now with the remaining time, he can only pick one tourist location out of 4 choices:\n",
    "- Chicago \n",
    "- Miami\n",
    "- New York\n",
    "- Los Angeles\n",
    "\n",
    "Kumar's wife is a big time foodie and specially obsessed with Indian foods. Since all 4 cities have their own set of attractions, So, she decides on picking the 3rd spot based on Indian restaurants.\n",
    "\n",
    "The problem we aim to solve is to find the best U.S city out of 4 mentioned above for Indian restaurants and the best place out of the selected city to book a hotel."
   ]
  },
  {
   "cell_type": "markdown",
   "metadata": {},
   "source": [
    "### Data Section"
   ]
  },
  {
   "cell_type": "markdown",
   "metadata": {},
   "source": [
    "I will use the FourSquare API through venues channel to collect data about locations of Indian Restaurants in 4 major U.S cities mentioned below: \n",
    "- Chicago,IL\n",
    "- Miami, FL\n",
    "- New York, NY\n",
    "- Los Angeles,CA. \n"
   ]
  },
  {
   "cell_type": "code",
   "execution_count": null,
   "metadata": {},
   "outputs": [],
   "source": []
  }
 ],
 "metadata": {
  "kernelspec": {
   "display_name": "Python 3",
   "language": "python",
   "name": "python3"
  },
  "language_info": {
   "codemirror_mode": {
    "name": "ipython",
    "version": 3
   },
   "file_extension": ".py",
   "mimetype": "text/x-python",
   "name": "python",
   "nbconvert_exporter": "python",
   "pygments_lexer": "ipython3",
   "version": "3.7.6"
  }
 },
 "nbformat": 4,
 "nbformat_minor": 4
}
